{
 "cells": [
  {
   "cell_type": "code",
   "execution_count": null,
   "metadata": {},
   "outputs": [],
   "source": [
    "import matplotlib.pyplot as plt\n",
    "import numpy as np\n",
    "\n",
    "results_dir = \"/PATH/TO/FOLDER/pyspark-ml/mnist-pytorch\"\n",
    "number_of_workers = 16"
   ]
  },
  {
   "cell_type": "markdown",
   "metadata": {},
   "source": [
    "## Wait Time Calculation and Analysis\n",
    "Sync_End[i+1] - Loss_End[i]"
   ]
  },
  {
   "cell_type": "code",
   "execution_count": null,
   "metadata": {},
   "outputs": [],
   "source": [
    "logs_arr = []\n",
    "for i in range(number_of_workers):\n",
    "    logfile =  open(results_dir+\"/log_rank_{}.log\".format(i), \"r\")\n",
    "    lines = logfile.readlines()\n",
    "    logs = []\n",
    "    for line in lines:\n",
    "        logs.append(line.split('|'))\n",
    "    logfile.close()\n",
    "    logs_arr.append(list(reversed(logs)))\n",
    "\n",
    "datapoints = []\n",
    "\n",
    "def is_same_epoch(log1, log2):\n",
    "    log1_epoch = int((log1[7].split(\" \"))[1])\n",
    "    log2_epoch = int((log2[7].split(\" \"))[1])\n",
    "    return log1_epoch==log2_epoch\n",
    "\n",
    "for logs in logs_arr:\n",
    "    i = 0\n",
    "    while i<len(logs):\n",
    "        if logs[i][5]==\"Sync End\" and is_same_epoch(logs[i], logs[i+1]):\n",
    "            datapoints.append(float(logs[i][4])-float(logs[i+1][4]))\n",
    "        i+=1\n",
    "\n",
    "y = datapoints\n",
    "n = len(y)\n",
    "x = 0.5+np.arange(n)\n",
    "\n",
    "plt.figure(figsize=(20,5))\n",
    "plt.plot(x,y, '-o')\n",
    "plt.xlabel(\"data points\")\n",
    "plt.ylabel(\"Time in seconds\")\n",
    "plt.show()\n",
    "\n",
    "plt.figure(figsize=(20, 5))\n",
    "plt.hist(y, bins=500)\n",
    "plt.show()"
   ]
  },
  {
   "cell_type": "markdown",
   "metadata": {},
   "source": [
    "## Execution Times Calculation and Analysis\n",
    "Loss_Grad_End[i+1] - Sync_End[i]"
   ]
  },
  {
   "cell_type": "code",
   "execution_count": null,
   "metadata": {},
   "outputs": [],
   "source": [
    "logs_arr = []\n",
    "for i in range(number_of_workers):\n",
    "    logfile =  open(results_dir+\"log_rank_{}.log\".format(i), \"r\")\n",
    "    lines = logfile.readlines()\n",
    "    logs = []\n",
    "    for line in lines:\n",
    "        logs.append(line.split('|'))\n",
    "    logfile.close()\n",
    "    logs_arr.append(list(reversed(logs)))\n",
    "\n",
    "datapoints = []\n",
    "\n",
    "def is_same_epoch(log1, log2):\n",
    "    log1_epoch = int((log1[7].split(\" \"))[1])\n",
    "    log2_epoch = int((log2[7].split(\" \"))[1])\n",
    "    return log1_epoch==log2_epoch\n",
    "\n",
    "for logs in logs_arr:\n",
    "    i = 0\n",
    "    while i<len(logs)-2:\n",
    "        if logs[i][5]==\"Loss Grad End\" and is_same_epoch(logs[i], logs[i+2]):\n",
    "            datapoints.append(float(logs[i][4])-float(logs[i+2][4]))\n",
    "        i+=1\n",
    "\n",
    "y = datapoints\n",
    "n = len(y)\n",
    "x = 0.5+np.arange(n)\n",
    "\n",
    "plt.figure(figsize=(20,5))\n",
    "plt.plot(x,y, '-o')\n",
    "plt.xlabel(\"data points\")\n",
    "plt.ylabel(\"Time in seconds\")\n",
    "plt.show()\n",
    "\n",
    "plt.figure(figsize=(20, 5))\n",
    "plt.hist(y, bins=500)\n",
    "plt.show()"
   ]
  }
 ],
 "metadata": {
  "language_info": {
   "name": "python"
  }
 },
 "nbformat": 4,
 "nbformat_minor": 2
}
